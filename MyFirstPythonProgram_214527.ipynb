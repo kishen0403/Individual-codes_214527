{
  "nbformat": 4,
  "nbformat_minor": 0,
  "metadata": {
    "colab": {
      "name": "MyFirstPythonProgram_214527.ipynb",
      "provenance": [],
      "collapsed_sections": [],
      "authorship_tag": "ABX9TyOz4WpI8QNRb1zDt9j+/Xo9",
      "include_colab_link": true
    },
    "kernelspec": {
      "name": "python3",
      "display_name": "Python 3"
    },
    "language_info": {
      "name": "python"
    }
  },
  "cells": [
    {
      "cell_type": "markdown",
      "metadata": {
        "id": "view-in-github",
        "colab_type": "text"
      },
      "source": [
        "<a href=\"https://colab.research.google.com/github/kishen0403/Individual-codes_214527/blob/main/MyFirstPythonProgram_214527.ipynb\" target=\"_parent\"><img src=\"https://colab.research.google.com/assets/colab-badge.svg\" alt=\"Open In Colab\"/></a>"
      ]
    },
    {
      "cell_type": "markdown",
      "source": [
        "Sairam. I will be starting my first program Keyword Syntax Error/Mistakes Debugging\n",
        "\n",
        "\n"
      ],
      "metadata": {
        "id": "8o-K3XxtcnRi"
      }
    },
    {
      "cell_type": "markdown",
      "source": [
        ""
      ],
      "metadata": {
        "id": "LHYYqcuXqdBE"
      }
    },
    {
      "cell_type": "code",
      "source": [
        "print(\"sairam\")\n",
        "print(\"sai\")\n",
        "a=45\n",
        "print(a)"
      ],
      "metadata": {
        "id": "zALBENCYebze",
        "colab": {
          "base_uri": "https://localhost:8080/"
        },
        "outputId": "7d548e86-bfff-4029-a261-5d32f4aa02f3"
      },
      "execution_count": null,
      "outputs": [
        {
          "output_type": "stream",
          "name": "stdout",
          "text": [
            "sairam\n",
            "sai\n",
            "45\n"
          ]
        }
      ]
    },
    {
      "cell_type": "markdown",
      "source": [
        ""
      ],
      "metadata": {
        "id": "01Etl2YVeTG2"
      }
    },
    {
      "cell_type": "code",
      "source": [
        "print('Sai ram')\n",
        "print(\"Hello,214527\")\n"
      ],
      "metadata": {
        "colab": {
          "base_uri": "https://localhost:8080/"
        },
        "id": "v5dmEA1TcsFu",
        "outputId": "d25612e2-7baa-4496-fab9-3ede67232be0"
      },
      "execution_count": null,
      "outputs": [
        {
          "output_type": "stream",
          "name": "stdout",
          "text": [
            "Sai ram\n",
            "Hello,214527\n"
          ]
        }
      ]
    },
    {
      "cell_type": "code",
      "source": [
        "#type 25\n",
        "type(\"hello,python 101\")"
      ],
      "metadata": {
        "colab": {
          "base_uri": "https://localhost:8080/"
        },
        "id": "U7QJQQCCaYZd",
        "outputId": "49698094-2c72-405d-b9b2-7c3fcc1534a8"
      },
      "execution_count": null,
      "outputs": [
        {
          "output_type": "execute_result",
          "data": {
            "text/plain": [
              "str"
            ]
          },
          "metadata": {},
          "execution_count": 3
        }
      ]
    },
    {
      "cell_type": "code",
      "source": [
        "print(\"hello,world\")\n",
        "if 6 > 3 :\n",
        "  print(\"six is greater than three\")"
      ],
      "metadata": {
        "id": "JKGA0WBFa5xy",
        "colab": {
          "base_uri": "https://localhost:8080/"
        },
        "outputId": "a112c08a-4d69-4021-e431-80e54df1834e"
      },
      "execution_count": null,
      "outputs": [
        {
          "output_type": "stream",
          "name": "stdout",
          "text": [
            "hello,world\n",
            "six is greater than three\n"
          ]
        }
      ]
    },
    {
      "cell_type": "code",
      "source": [
        "a=type(55)\n",
        "print(a)\n",
        "type(5.2)"
      ],
      "metadata": {
        "colab": {
          "base_uri": "https://localhost:8080/"
        },
        "id": "_kjHj5gfZ6KY",
        "outputId": "60074758-d4a2-4911-ae8a-c3a4200a9ccf"
      },
      "execution_count": null,
      "outputs": [
        {
          "output_type": "stream",
          "name": "stdout",
          "text": [
            "<class 'int'>\n"
          ]
        },
        {
          "output_type": "execute_result",
          "data": {
            "text/plain": [
              "float"
            ]
          },
          "metadata": {},
          "execution_count": 6
        }
      ]
    },
    {
      "cell_type": "code",
      "source": [
        "int(2.5)"
      ],
      "metadata": {
        "colab": {
          "base_uri": "https://localhost:8080/"
        },
        "id": "EdhwGBkKaCnj",
        "outputId": "9551e19c-14f2-4ce9-cf0a-b7f1e35f3bf3"
      },
      "execution_count": null,
      "outputs": [
        {
          "output_type": "execute_result",
          "data": {
            "text/plain": [
              "2"
            ]
          },
          "metadata": {},
          "execution_count": 7
        }
      ]
    },
    {
      "cell_type": "code",
      "source": [
        "str(1)"
      ],
      "metadata": {
        "colab": {
          "base_uri": "https://localhost:8080/",
          "height": 35
        },
        "id": "wqHGcPdNbTvs",
        "outputId": "95c61d3b-02fe-4cc1-cc17-3321417693ad"
      },
      "execution_count": null,
      "outputs": [
        {
          "output_type": "execute_result",
          "data": {
            "application/vnd.google.colaboratory.intrinsic+json": {
              "type": "string"
            },
            "text/plain": [
              "'1'"
            ]
          },
          "metadata": {},
          "execution_count": 8
        }
      ]
    },
    {
      "cell_type": "code",
      "source": [
        "bool(1)"
      ],
      "metadata": {
        "colab": {
          "base_uri": "https://localhost:8080/"
        },
        "id": "yGsHSulGcRGc",
        "outputId": "2b92f273-1697-4830-e95e-09f92a84850d"
      },
      "execution_count": null,
      "outputs": [
        {
          "output_type": "execute_result",
          "data": {
            "text/plain": [
              "True"
            ]
          },
          "metadata": {},
          "execution_count": 10
        }
      ]
    },
    {
      "cell_type": "code",
      "source": [
        "s= 17//5\n",
        "print(\"coefficient is\",s)"
      ],
      "metadata": {
        "colab": {
          "base_uri": "https://localhost:8080/"
        },
        "id": "22VAy2Icf5cC",
        "outputId": "d94b2d12-b53e-4b3e-c4fd-8aafb534b06a"
      },
      "execution_count": 20,
      "outputs": [
        {
          "output_type": "stream",
          "name": "stdout",
          "text": [
            "coefficient is 3\n"
          ]
        }
      ]
    },
    {
      "cell_type": "code",
      "source": [
        "a = 3%2\n",
        "print (a)"
      ],
      "metadata": {
        "colab": {
          "base_uri": "https://localhost:8080/"
        },
        "id": "qgl_mUIFgOia",
        "outputId": "0f15598e-959c-4d2a-e94d-8f159bc3efd6"
      },
      "execution_count": 22,
      "outputs": [
        {
          "output_type": "stream",
          "name": "stdout",
          "text": [
            "1\n"
          ]
        }
      ]
    },
    {
      "cell_type": "code",
      "source": [
        "name = \" Earth revolves around the sun \"\n",
        "print (name [6:15])\n"
      ],
      "metadata": {
        "colab": {
          "base_uri": "https://localhost:8080/"
        },
        "id": "JGPtnaAoXHnN",
        "outputId": "91b81002-42d6-443e-fde0-404dfcb746f7"
      },
      "execution_count": null,
      "outputs": [
        {
          "output_type": "stream",
          "name": "stdout",
          "text": [
            " revolves\n"
          ]
        }
      ]
    },
    {
      "cell_type": "code",
      "source": [
        "name [-4:-1]"
      ],
      "metadata": {
        "colab": {
          "base_uri": "https://localhost:8080/",
          "height": 35
        },
        "id": "Wn12q5LRhtQk",
        "outputId": "16cb79bd-1c15-43de-9aa6-24f9b8afe0e8"
      },
      "execution_count": null,
      "outputs": [
        {
          "output_type": "execute_result",
          "data": {
            "application/vnd.google.colaboratory.intrinsic+json": {
              "type": "string"
            },
            "text/plain": [
              "'sun'"
            ]
          },
          "metadata": {},
          "execution_count": 17
        }
      ]
    },
    {
      "cell_type": "code",
      "source": [
        "name1 = \"I love eating\"\n",
        "name2 = \" veggies \"\n",
        "name3 = \" fruits\"\n",
        "print (name1 + name2 + \"and\" + name3)"
      ],
      "metadata": {
        "colab": {
          "base_uri": "https://localhost:8080/"
        },
        "id": "DEM_LrM4h9yE",
        "outputId": "b01841cd-3328-4f22-a5a8-02d80e960dab"
      },
      "execution_count": null,
      "outputs": [
        {
          "output_type": "stream",
          "name": "stdout",
          "text": [
            "I love eating veggies and fruits\n"
          ]
        }
      ]
    },
    {
      "cell_type": "code",
      "source": [
        "num = \" 4 \"\n",
        "print (name1 + num + name3 + \" everday\")\n"
      ],
      "metadata": {
        "colab": {
          "base_uri": "https://localhost:8080/"
        },
        "id": "4LFUKEeFiEZK",
        "outputId": "ba1d837d-4365-44b6-dd11-f85c5e411158"
      },
      "execution_count": null,
      "outputs": [
        {
          "output_type": "stream",
          "name": "stdout",
          "text": [
            "I love eating 4  fruits everday\n"
          ]
        }
      ]
    },
    {
      "cell_type": "code",
      "source": [
        "name = \"SaiKishen\"\n",
        "print (name[4])"
      ],
      "metadata": {
        "colab": {
          "base_uri": "https://localhost:8080/"
        },
        "id": "OXuXjg92gjqS",
        "outputId": "87e99abe-a9e5-4486-82a9-9bb31827b89c"
      },
      "execution_count": 32,
      "outputs": [
        {
          "output_type": "stream",
          "name": "stdout",
          "text": [
            "i\n"
          ]
        }
      ]
    },
    {
      "cell_type": "code",
      "source": [
        "print(name[-3])"
      ],
      "metadata": {
        "colab": {
          "base_uri": "https://localhost:8080/"
        },
        "id": "vwfwqozXgstr",
        "outputId": "9fb2a7d9-d979-4b36-c00d-8acb18efd308"
      },
      "execution_count": 24,
      "outputs": [
        {
          "output_type": "stream",
          "name": "stdout",
          "text": [
            "h\n"
          ]
        }
      ]
    },
    {
      "cell_type": "code",
      "source": [
        "name[0:5]"
      ],
      "metadata": {
        "colab": {
          "base_uri": "https://localhost:8080/",
          "height": 35
        },
        "id": "fdPmY847hdk3",
        "outputId": "023578dc-1adb-4a97-8bec-25245ae75897"
      },
      "execution_count": 25,
      "outputs": [
        {
          "output_type": "execute_result",
          "data": {
            "text/plain": [
              "'SaiKi'"
            ],
            "application/vnd.google.colaboratory.intrinsic+json": {
              "type": "string"
            }
          },
          "metadata": {},
          "execution_count": 25
        }
      ]
    },
    {
      "cell_type": "code",
      "source": [
        "len ('SaiKishen')"
      ],
      "metadata": {
        "colab": {
          "base_uri": "https://localhost:8080/"
        },
        "id": "nQKIaCqphhyt",
        "outputId": "3e5f5379-ada6-4751-aa79-36b020c6d763"
      },
      "execution_count": 27,
      "outputs": [
        {
          "output_type": "execute_result",
          "data": {
            "text/plain": [
              "9"
            ]
          },
          "metadata": {},
          "execution_count": 27
        }
      ]
    },
    {
      "cell_type": "code",
      "source": [
        "name [0:4:1]"
      ],
      "metadata": {
        "colab": {
          "base_uri": "https://localhost:8080/",
          "height": 35
        },
        "id": "rabYPBgChqKn",
        "outputId": "fb836e2c-a74f-4324-b735-84ae9cdab5ce"
      },
      "execution_count": 31,
      "outputs": [
        {
          "output_type": "execute_result",
          "data": {
            "text/plain": [
              "'SaiK'"
            ],
            "application/vnd.google.colaboratory.intrinsic+json": {
              "type": "string"
            }
          },
          "metadata": {},
          "execution_count": 31
        }
      ]
    },
    {
      "cell_type": "code",
      "source": [
        "p=float(input(\"enter p\"))\n",
        "t=float(input(\"enter t\"))\n",
        "r=float(input(\"enter r\"))\n",
        "SI=p*t*r/100\n",
        "print(SI)\n"
      ],
      "metadata": {
        "colab": {
          "base_uri": "https://localhost:8080/"
        },
        "id": "vtqa7aaIjXLU",
        "outputId": "fe1baebc-8e4f-40be-e946-ae4c42c8f1c4"
      },
      "execution_count": null,
      "outputs": [
        {
          "output_type": "stream",
          "name": "stdout",
          "text": [
            "enter p5\n",
            "enter t5\n",
            "enter r5\n",
            "1.25\n"
          ]
        }
      ]
    },
    {
      "cell_type": "markdown",
      "source": [
        "Principal and interests codes"
      ],
      "metadata": {
        "id": "v_TVi1C7Q90P"
      }
    },
    {
      "cell_type": "code",
      "source": [
        "# The calculates the rate of interest\n",
        "# a = p + si \n",
        "# a = p + (prt/100)\n",
        "# a - p = prt/100\n",
        "p = float(input('P = '))\n",
        "a = float(input('A = ')) \n",
        "t = float(input('T = ')) \n",
        "r = ((a - p) * 100) / (p * t)\n",
        "print(r)"
      ],
      "metadata": {
        "colab": {
          "base_uri": "https://localhost:8080/"
        },
        "id": "dGKMZLrDRFOu",
        "outputId": "17b4aedc-6f10-4890-ce7d-42196f8b525d"
      },
      "execution_count": 2,
      "outputs": [
        {
          "output_type": "stream",
          "name": "stdout",
          "text": [
            "P = 4\n",
            "A = 10\n",
            "T = 50\n",
            "3.0\n"
          ]
        }
      ]
    },
    {
      "cell_type": "code",
      "source": [
        "r = float(input('R = ')) \n",
        "t1 = float(input('Larger Time = ')) \n",
        "t2 = float(input('Shorter Time = ')) \n",
        "dif = float(input('Difference between interests : '))\n",
        "\n",
        "si1 = (p*r*t1)/100\n",
        "si2 = (p*r*t2)/100\n",
        "# calculation of the formula\n",
        "#dif = si1 - si2\n",
        "#dif = (p*r*t1)/100 - (p*r*t2)/100\n",
        "#dif = pr/100 (t1 - t2)\n",
        "p = (dif / r * (t1 - t2)) * 100\n",
        "print(p)"
      ],
      "metadata": {
        "colab": {
          "base_uri": "https://localhost:8080/"
        },
        "id": "hWxKf2_sRSth",
        "outputId": "c0125baf-0ad8-4735-be1f-49eab9f059ef"
      },
      "execution_count": 3,
      "outputs": [
        {
          "output_type": "stream",
          "name": "stdout",
          "text": [
            "R = 10\n",
            "Larger Time = 7\n",
            "Shorter Time = 6\n",
            "Difference between interests : 650\n",
            "6500.0\n"
          ]
        }
      ]
    },
    {
      "cell_type": "code",
      "source": [
        "# The first pair of rate and time\n",
        "r1 = float(input('R1 = '))\n",
        "t1 = float(input('T1 = '))\n",
        "\n",
        "# The second pair of rate and time\n",
        "\n",
        "r2 = float(input('R2 = '))  \n",
        "t2 = float(input('T2 = ')) \n",
        "dif = float(input('Difference between interests '))\n",
        "\n",
        "#si = prt/100\n",
        "#diff = si1 - si2\n",
        "#dif = p*r1*t1/100  - p*r2*t2/100\n",
        "t1 = t1/12\n",
        "t2 = t2/12\n",
        "\n",
        "p = (dif * 100) / (r1*t1 - r2*t2)\n",
        "print(p)"
      ],
      "metadata": {
        "colab": {
          "base_uri": "https://localhost:8080/"
        },
        "id": "AeZeG1hnRcqG",
        "outputId": "3ebae756-f47d-4e14-df39-17fde0613776"
      },
      "execution_count": 4,
      "outputs": [
        {
          "output_type": "stream",
          "name": "stdout",
          "text": [
            "R1 = 4\n",
            "T1 = 13\n",
            "R2 = 6\n",
            "T2 = 8\n",
            "Difference between interests 40\n",
            "12000.000000000011\n"
          ]
        }
      ]
    },
    {
      "cell_type": "code",
      "source": [
        "5 // (4 + 5) % 4"
      ],
      "metadata": {
        "colab": {
          "base_uri": "https://localhost:8080/"
        },
        "id": "ZdtzwoP_Rs3I",
        "outputId": "c1e3a762-eeef-46e4-ba30-a139cbd3eb1f"
      },
      "execution_count": 5,
      "outputs": [
        {
          "output_type": "execute_result",
          "data": {
            "text/plain": [
              "0"
            ]
          },
          "metadata": {},
          "execution_count": 5
        }
      ]
    },
    {
      "cell_type": "code",
      "source": [
        "2 * (3 + 9) / 5"
      ],
      "metadata": {
        "colab": {
          "base_uri": "https://localhost:8080/"
        },
        "id": "u-h6AZt4RwNn",
        "outputId": "9037b4d6-6126-461e-d383-74dd62b392d5"
      },
      "execution_count": 6,
      "outputs": [
        {
          "output_type": "execute_result",
          "data": {
            "text/plain": [
              "4.8"
            ]
          },
          "metadata": {},
          "execution_count": 6
        }
      ]
    },
    {
      "cell_type": "code",
      "source": [
        "2 ** (3 * 3)"
      ],
      "metadata": {
        "colab": {
          "base_uri": "https://localhost:8080/"
        },
        "id": "nfvArtTZRz90",
        "outputId": "3fb739bd-f9c2-49e7-a082-e30b2edab6f0"
      },
      "execution_count": 7,
      "outputs": [
        {
          "output_type": "execute_result",
          "data": {
            "text/plain": [
              "512"
            ]
          },
          "metadata": {},
          "execution_count": 7
        }
      ]
    },
    {
      "cell_type": "code",
      "source": [
        "2 * 3 + 9 / 5"
      ],
      "metadata": {
        "colab": {
          "base_uri": "https://localhost:8080/"
        },
        "id": "ab8pKc1LR4Fm",
        "outputId": "761c83ce-a7a4-49e4-d1d3-8025723218d3"
      },
      "execution_count": 8,
      "outputs": [
        {
          "output_type": "execute_result",
          "data": {
            "text/plain": [
              "7.8"
            ]
          },
          "metadata": {},
          "execution_count": 8
        }
      ]
    },
    {
      "cell_type": "code",
      "source": [
        "-1>0"
      ],
      "metadata": {
        "colab": {
          "base_uri": "https://localhost:8080/"
        },
        "id": "vV4TR_MmR7VI",
        "outputId": "0e17e637-2fb3-4543-e8ff-68f50e150f88"
      },
      "execution_count": 9,
      "outputs": [
        {
          "output_type": "execute_result",
          "data": {
            "text/plain": [
              "False"
            ]
          },
          "metadata": {},
          "execution_count": 9
        }
      ]
    },
    {
      "cell_type": "code",
      "source": [
        "#AND operator=TRUE and TRUE will become TRUE, all others FALSE\n",
        "#OR operator=FALSE and FALSE will become FALSE,all others TRUE\n",
        "A=True\n",
        "B=False\n",
        "A or B\n"
      ],
      "metadata": {
        "colab": {
          "base_uri": "https://localhost:8080/"
        },
        "id": "vZz7gMBwSAxi",
        "outputId": "16f89764-ed75-4123-b007-92b3d89613f6"
      },
      "execution_count": 10,
      "outputs": [
        {
          "output_type": "execute_result",
          "data": {
            "text/plain": [
              "True"
            ]
          },
          "metadata": {},
          "execution_count": 10
        }
      ]
    },
    {
      "cell_type": "markdown",
      "source": [
        "Leap year code"
      ],
      "metadata": {
        "id": "rjGecqJGSV2K"
      }
    },
    {
      "cell_type": "code",
      "source": [
        "a=float(input('Enter the year\\n'))\n",
        "if (a % 4 == 0):\n",
        "  print('The year is leap year')\n",
        "else:\n",
        "  print('The year is not a leap year') \n"
      ],
      "metadata": {
        "colab": {
          "base_uri": "https://localhost:8080/"
        },
        "id": "YUS4yMX-WaB7",
        "outputId": "3bceb329-17fc-4e13-c7d6-373434c9c0ca"
      },
      "execution_count": 16,
      "outputs": [
        {
          "output_type": "stream",
          "name": "stdout",
          "text": [
            "Enter the year\n",
            "2004\n",
            "The year is leap year\n"
          ]
        }
      ]
    },
    {
      "cell_type": "code",
      "source": [
        "a=float(input(\"Enter your score\\n\"))\n",
        "if(a>=80):\n",
        "    print(\"A\")\n",
        "elif(a>=40 and a<=80):\n",
        "          print(\"B\")\n",
        "else:\n",
        "   print('F')"
      ],
      "metadata": {
        "colab": {
          "base_uri": "https://localhost:8080/"
        },
        "id": "XfgevlICi4sa",
        "outputId": "36922668-c49c-4cf1-902c-a379173f5077"
      },
      "execution_count": 33,
      "outputs": [
        {
          "output_type": "stream",
          "name": "stdout",
          "text": [
            "Enter your score\n",
            "50\n",
            "B\n"
          ]
        }
      ]
    },
    {
      "cell_type": "code",
      "source": [
        "x=5\n",
        "y=5\n",
        "if x == y :\n",
        "  print('Both numbers are equal')\n",
        "elif (x>y): \n",
        "      print('The first number is greater than the second one')\n",
        "else:\n",
        "        print(\"The second number is greater than the first one\")"
      ],
      "metadata": {
        "colab": {
          "base_uri": "https://localhost:8080/"
        },
        "id": "JsYKkhV7SsZo",
        "outputId": "fbc3e6e4-36c0-4dc7-e990-cbd8b8bede18"
      },
      "execution_count": 13,
      "outputs": [
        {
          "output_type": "stream",
          "name": "stdout",
          "text": [
            "Both numbers are equal\n"
          ]
        }
      ]
    },
    {
      "cell_type": "markdown",
      "source": [
        "Area of Triangle\n"
      ],
      "metadata": {
        "id": "VMex0K80TAiv"
      }
    },
    {
      "cell_type": "code",
      "source": [
        "b = 75\n",
        "h =45\n",
        "area = 1/2*b*h\n",
        "print (area)"
      ],
      "metadata": {
        "colab": {
          "base_uri": "https://localhost:8080/"
        },
        "id": "iykGP8JBTElF",
        "outputId": "ab93c0d2-b855-4e19-c94b-8d07606fd534"
      },
      "execution_count": 14,
      "outputs": [
        {
          "output_type": "stream",
          "name": "stdout",
          "text": [
            "1687.5\n"
          ]
        }
      ]
    },
    {
      "cell_type": "markdown",
      "source": [
        "Loops"
      ],
      "metadata": {
        "id": "DQ-2YUXInTvC"
      }
    },
    {
      "cell_type": "code",
      "source": [
        "i = 1\n",
        "while i < 11:\n",
        "  print(i)\n",
        "  i += 0.5\n",
        "  "
      ],
      "metadata": {
        "colab": {
          "base_uri": "https://localhost:8080/"
        },
        "id": "UOc5P2crnVve",
        "outputId": "57ce9f35-f4a0-4712-d231-db48e496b8cf"
      },
      "execution_count": 34,
      "outputs": [
        {
          "output_type": "stream",
          "name": "stdout",
          "text": [
            "1\n",
            "1.5\n",
            "2.0\n",
            "2.5\n",
            "3.0\n",
            "3.5\n",
            "4.0\n",
            "4.5\n",
            "5.0\n",
            "5.5\n",
            "6.0\n",
            "6.5\n",
            "7.0\n",
            "7.5\n",
            "8.0\n",
            "8.5\n",
            "9.0\n",
            "9.5\n",
            "10.0\n",
            "10.5\n"
          ]
        }
      ]
    },
    {
      "cell_type": "code",
      "source": [
        "#Example of for loop\n",
        "\n",
        "for i in range(0, 8):\n",
        "    print(i)"
      ],
      "metadata": {
        "colab": {
          "base_uri": "https://localhost:8080/"
        },
        "id": "MK_iDKY4nZjC",
        "outputId": "5b252bc4-b50b-4f31-c95d-0fc0084c535b"
      },
      "execution_count": 35,
      "outputs": [
        {
          "output_type": "stream",
          "name": "stdout",
          "text": [
            "0\n",
            "1\n",
            "2\n",
            "3\n",
            "4\n",
            "5\n",
            "6\n",
            "7\n"
          ]
        }
      ]
    },
    {
      "cell_type": "code",
      "source": [
        "count = 0\n",
        "while (count < 9):\n",
        "   print('The count is:', count)\n",
        "   count = count + 1\n",
        "\n",
        "print(\"Good bye!\")"
      ],
      "metadata": {
        "colab": {
          "base_uri": "https://localhost:8080/"
        },
        "id": "5Hw2NFREnd1x",
        "outputId": "52b6240c-6aae-4f59-d756-8bfe234082e8"
      },
      "execution_count": 36,
      "outputs": [
        {
          "output_type": "stream",
          "name": "stdout",
          "text": [
            "The count is: 0\n",
            "The count is: 1\n",
            "The count is: 2\n",
            "The count is: 3\n",
            "The count is: 4\n",
            "The count is: 5\n",
            "The count is: 6\n",
            "The count is: 7\n",
            "The count is: 8\n",
            "Good bye!\n"
          ]
        }
      ]
    },
    {
      "cell_type": "code",
      "source": [
        "number = int(input(\"Enter a number: \"))\n",
        "\n",
        "count = 1\n",
        "\n",
        "while count <= 10:\n",
        "    product = number * count\n",
        "    print(number, \"x\", count, \"=\", product)\n",
        "    count = count + 1"
      ],
      "metadata": {
        "colab": {
          "base_uri": "https://localhost:8080/"
        },
        "id": "yVc_3pt1nlQ4",
        "outputId": "eaaf86eb-e78a-47df-e606-1f5f277acdbe"
      },
      "execution_count": 37,
      "outputs": [
        {
          "output_type": "stream",
          "name": "stdout",
          "text": [
            "Enter a number: 10\n",
            "10 x 1 = 10\n",
            "10 x 2 = 20\n",
            "10 x 3 = 30\n",
            "10 x 4 = 40\n",
            "10 x 5 = 50\n",
            "10 x 6 = 60\n",
            "10 x 7 = 70\n",
            "10 x 8 = 80\n",
            "10 x 9 = 90\n",
            "10 x 10 = 100\n"
          ]
        }
      ]
    },
    {
      "cell_type": "markdown",
      "source": [
        "Lists"
      ],
      "metadata": {
        "id": "P0gQxf-DoWQi"
      }
    },
    {
      "cell_type": "code",
      "source": [
        "kishen_list = ['d','r','a','m','a']\n",
        "print(kishen_list[-1])\n",
        "print(kishen_list[-5])"
      ],
      "metadata": {
        "colab": {
          "base_uri": "https://localhost:8080/"
        },
        "id": "nA9D3VwDoYLE",
        "outputId": "34758986-1e8a-4ad6-c07d-58d6d6878300"
      },
      "execution_count": 42,
      "outputs": [
        {
          "output_type": "stream",
          "name": "stdout",
          "text": [
            "a\n",
            "d\n"
          ]
        }
      ]
    },
    {
      "cell_type": "code",
      "source": [
        "kishen_list = ['d', 'r', 'a', 'm', 'a']\n",
        "print(kishen_list[0])  \n",
        "print(kishen_list[2])  \n",
        "print(kishen_list[4]) \n"
      ],
      "metadata": {
        "colab": {
          "base_uri": "https://localhost:8080/"
        },
        "id": "QrWSZIaaocwm",
        "outputId": "619abad7-5921-4cea-a8a0-4f76b5ef39e4"
      },
      "execution_count": 43,
      "outputs": [
        {
          "output_type": "stream",
          "name": "stdout",
          "text": [
            "d\n",
            "a\n",
            "a\n"
          ]
        }
      ]
    },
    {
      "cell_type": "code",
      "source": [
        "kishen_list = ['t','e','x','t','b','o','o','k','s']\n",
        "print(kishen_list[2:5])\n",
        "\n"
      ],
      "metadata": {
        "colab": {
          "base_uri": "https://localhost:8080/"
        },
        "id": "urruha2IphQ1",
        "outputId": "f385810f-b61b-4e67-b483-255244483144"
      },
      "execution_count": 44,
      "outputs": [
        {
          "output_type": "stream",
          "name": "stdout",
          "text": [
            "['x', 't', 'b']\n"
          ]
        }
      ]
    },
    {
      "cell_type": "code",
      "source": [
        "print(kishen_list[:-5])"
      ],
      "metadata": {
        "colab": {
          "base_uri": "https://localhost:8080/"
        },
        "id": "-N2G-qKyqKrr",
        "outputId": "b3937406-c359-4f7f-91ea-5ab938d4ca0b"
      },
      "execution_count": 45,
      "outputs": [
        {
          "output_type": "stream",
          "name": "stdout",
          "text": [
            "['t', 'e', 'x', 't']\n"
          ]
        }
      ]
    },
    {
      "cell_type": "code",
      "source": [
        "print(kishen_list[:])"
      ],
      "metadata": {
        "colab": {
          "base_uri": "https://localhost:8080/"
        },
        "id": "BTzhcdKtqnrf",
        "outputId": "7c5425bf-d84d-4bbd-f2b0-8528a5a36eab"
      },
      "execution_count": 46,
      "outputs": [
        {
          "output_type": "stream",
          "name": "stdout",
          "text": [
            "['t', 'e', 'x', 't', 'b', 'o', 'o', 'k', 's']\n"
          ]
        }
      ]
    },
    {
      "cell_type": "markdown",
      "source": [
        "removing elements from list"
      ],
      "metadata": {
        "id": "H0JnbEFC8YFH"
      }
    },
    {
      "cell_type": "code",
      "source": [
        "kishen_list = ['t','e','x','t','b','o','o','k','s']\n",
        "kishen_list.remove('b')\n",
        "print(kishen_list)"
      ],
      "metadata": {
        "colab": {
          "base_uri": "https://localhost:8080/"
        },
        "id": "Mybyiria8Ebn",
        "outputId": "bb916ab1-40c5-4881-aafc-f268614f99e5"
      },
      "execution_count": 69,
      "outputs": [
        {
          "output_type": "stream",
          "name": "stdout",
          "text": [
            "['t', 'e', 'x', 't', 'o', 'o', 'k', 's']\n"
          ]
        }
      ]
    },
    {
      "cell_type": "markdown",
      "source": [
        "deleting items from dictionary"
      ],
      "metadata": {
        "id": "onEK_3hr3kqt"
      }
    },
    {
      "cell_type": "code",
      "source": [
        "kishen_list = ['t','e','x','t','b','o','o','k','s']\n",
        "del kishen_list[2]\n",
        "print(kishen_list)"
      ],
      "metadata": {
        "colab": {
          "base_uri": "https://localhost:8080/"
        },
        "id": "qJOAgTtgrQa8",
        "outputId": "b7879a2a-d4bc-42b7-da81-d6fa4f47cbae"
      },
      "execution_count": 50,
      "outputs": [
        {
          "output_type": "stream",
          "name": "stdout",
          "text": [
            "['t', 'e', 't', 'b', 'o', 'o', 'k', 's']\n"
          ]
        }
      ]
    },
    {
      "cell_type": "markdown",
      "source": [
        "Dictionaries"
      ],
      "metadata": {
        "id": "Wq-3Uy8fsI-s"
      }
    },
    {
      "cell_type": "code",
      "source": [
        "dict = {}"
      ],
      "metadata": {
        "id": "oBvQj8DVsKpi"
      },
      "execution_count": 51,
      "outputs": []
    },
    {
      "cell_type": "markdown",
      "source": [
        "creation of dictionary"
      ],
      "metadata": {
        "id": "CZOcQmtq2dZV"
      }
    },
    {
      "cell_type": "code",
      "source": [
        "dict={1: 'apple', 2: 'ball'}\n",
        "print(dict)"
      ],
      "metadata": {
        "colab": {
          "base_uri": "https://localhost:8080/"
        },
        "id": "isi6LObctTYt",
        "outputId": "1f54ece8-a3a4-44bf-c819-7f55bb7ee361"
      },
      "execution_count": 53,
      "outputs": [
        {
          "output_type": "stream",
          "name": "stdout",
          "text": [
            "{1: 'apple', 2: 'ball'}\n"
          ]
        }
      ]
    },
    {
      "cell_type": "markdown",
      "source": [
        "Extract values from dictionary"
      ],
      "metadata": {
        "id": "vzh29NtN2Ygb"
      }
    },
    {
      "cell_type": "code",
      "source": [
        "print(dict[1])"
      ],
      "metadata": {
        "colab": {
          "base_uri": "https://localhost:8080/"
        },
        "id": "BMvsvVfwtTcT",
        "outputId": "b7e47181-5165-4dd9-aad0-fa3bbb64ac50"
      },
      "execution_count": 54,
      "outputs": [
        {
          "output_type": "stream",
          "name": "stdout",
          "text": [
            "apple\n"
          ]
        }
      ]
    },
    {
      "cell_type": "code",
      "source": [
        "print(dict[2])"
      ],
      "metadata": {
        "colab": {
          "base_uri": "https://localhost:8080/"
        },
        "id": "MIXcBaNL2mmX",
        "outputId": "48ba7a22-de88-4c8f-9c03-37fbbca47d30"
      },
      "execution_count": 64,
      "outputs": [
        {
          "output_type": "stream",
          "name": "stdout",
          "text": [
            "ball\n"
          ]
        }
      ]
    },
    {
      "cell_type": "markdown",
      "source": [
        "Add item"
      ],
      "metadata": {
        "id": "JJRRtxVK2U6t"
      }
    },
    {
      "cell_type": "code",
      "source": [
        "dict[3] = 'Dog'\n",
        "print(dict)"
      ],
      "metadata": {
        "colab": {
          "base_uri": "https://localhost:8080/"
        },
        "id": "lsy4frjWt0JQ",
        "outputId": "f330895b-09c3-45c1-f6ce-94696e6a8a19"
      },
      "execution_count": 56,
      "outputs": [
        {
          "output_type": "stream",
          "name": "stdout",
          "text": [
            "{1: 'apple', 2: 'ball', 3: 'Dog'}\n"
          ]
        }
      ]
    },
    {
      "cell_type": "markdown",
      "source": [
        "Remove item and extract only value"
      ],
      "metadata": {
        "id": "rsTmBFn1289z"
      }
    },
    {
      "cell_type": "code",
      "source": [
        "print(dict.pop(1))"
      ],
      "metadata": {
        "colab": {
          "base_uri": "https://localhost:8080/"
        },
        "id": "VcZaUiaZzm7V",
        "outputId": "8ed918d3-d542-4677-87dd-0aa3208340a7"
      },
      "execution_count": 60,
      "outputs": [
        {
          "output_type": "stream",
          "name": "stdout",
          "text": [
            "apple\n"
          ]
        }
      ]
    },
    {
      "cell_type": "markdown",
      "source": [
        "iterating through dictionary"
      ],
      "metadata": {
        "id": "GQsQwyLm2ynE"
      }
    },
    {
      "cell_type": "code",
      "source": [
        "dict={1: 'apple', 2: 'ball', 3: 'Dog'}\n",
        "for i in dict:\n",
        "    print(dict[i])\n"
      ],
      "metadata": {
        "colab": {
          "base_uri": "https://localhost:8080/"
        },
        "id": "QOi6gr761UvO",
        "outputId": "e2f95f5f-1aa3-4e90-c49b-2651301cde45"
      },
      "execution_count": 62,
      "outputs": [
        {
          "output_type": "stream",
          "name": "stdout",
          "text": [
            "apple\n",
            "ball\n",
            "Dog\n"
          ]
        }
      ]
    },
    {
      "cell_type": "markdown",
      "source": [
        "Clear dictionary"
      ],
      "metadata": {
        "id": "AoXzYt2R457G"
      }
    },
    {
      "cell_type": "code",
      "source": [
        "dict.clear()\n",
        "print(dict)"
      ],
      "metadata": {
        "colab": {
          "base_uri": "https://localhost:8080/"
        },
        "id": "ixvFaSr-48eH",
        "outputId": "db4644d9-a731-43a7-ef54-161d5af0c9b0"
      },
      "execution_count": 67,
      "outputs": [
        {
          "output_type": "stream",
          "name": "stdout",
          "text": [
            "{}\n"
          ]
        }
      ]
    },
    {
      "cell_type": "markdown",
      "source": [
        "Tuples"
      ],
      "metadata": {
        "id": "nfMEHPTNcgq8"
      }
    },
    {
      "cell_type": "code",
      "source": [
        "tup=(1,2,3,4,[1,2,3],6)\n",
        "list(enumerate(tup))"
      ],
      "metadata": {
        "colab": {
          "base_uri": "https://localhost:8080/"
        },
        "id": "B7RsWAzJcilR",
        "outputId": "aac1b236-743a-41ba-d7b0-8bbca6afa3b2"
      },
      "execution_count": 17,
      "outputs": [
        {
          "output_type": "execute_result",
          "data": {
            "text/plain": [
              "[(0, 1), (1, 2), (2, 3), (3, 4), (4, [1, 2, 3]), (5, 6)]"
            ]
          },
          "metadata": {},
          "execution_count": 17
        }
      ]
    },
    {
      "cell_type": "code",
      "source": [
        "t = ('S','A','I','R','A','M')\n",
        "s = \"\"\n",
        "for i in t[:3]:\n",
        "    s += i\n",
        "s += \" \"\n",
        "for i in t[3:]:\n",
        "    s += i\n",
        "print(s)"
      ],
      "metadata": {
        "colab": {
          "base_uri": "https://localhost:8080/"
        },
        "id": "oN85zdgAcnFP",
        "outputId": "8fa0bdde-3149-4dff-8eca-cd292d2389a4"
      },
      "execution_count": 18,
      "outputs": [
        {
          "output_type": "stream",
          "name": "stdout",
          "text": [
            "SAI RAM\n"
          ]
        }
      ]
    },
    {
      "cell_type": "code",
      "source": [
        "t = ('S','A','I','R','A','M')\n",
        "s = \"\"\n",
        "for i in t[:3]:\n",
        "    s += i\n",
        "s += \" \"\n",
        "print(s)"
      ],
      "metadata": {
        "colab": {
          "base_uri": "https://localhost:8080/"
        },
        "id": "V2gSvwRAcqun",
        "outputId": "de80b6d7-2bb2-4f5c-efd7-0f55e3ded5a8"
      },
      "execution_count": 19,
      "outputs": [
        {
          "output_type": "stream",
          "name": "stdout",
          "text": [
            "SAI \n"
          ]
        }
      ]
    }
  ]
}