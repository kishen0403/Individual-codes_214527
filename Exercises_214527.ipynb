{
  "nbformat": 4,
  "nbformat_minor": 0,
  "metadata": {
    "colab": {
      "name": "Exercises_214527.ipynb",
      "provenance": [],
      "collapsed_sections": [],
      "authorship_tag": "ABX9TyOjPNjS5Odtah01a69w22GJ",
      "include_colab_link": true
    },
    "kernelspec": {
      "name": "python3",
      "display_name": "Python 3"
    },
    "language_info": {
      "name": "python"
    }
  },
  "cells": [
    {
      "cell_type": "markdown",
      "metadata": {
        "id": "view-in-github",
        "colab_type": "text"
      },
      "source": [
        "<a href=\"https://colab.research.google.com/github/kishen0403/Individual-codes_214527/blob/main/Exercises_214527.ipynb\" target=\"_parent\"><img src=\"https://colab.research.google.com/assets/colab-badge.svg\" alt=\"Open In Colab\"/></a>"
      ]
    },
    {
      "cell_type": "markdown",
      "source": [
        "Chapter-2 Exercises"
      ],
      "metadata": {
        "id": "mdf4yO-TUYBN"
      }
    },
    {
      "cell_type": "markdown",
      "source": [
        "Exercise-1"
      ],
      "metadata": {
        "id": "gFtGKN0uUePF"
      }
    },
    {
      "cell_type": "code",
      "source": [
        "name=\"Kishen\"\n",
        "print (\"hello \"+ name) "
      ],
      "metadata": {
        "colab": {
          "base_uri": "https://localhost:8080/"
        },
        "id": "w2iKL4N6UgQO",
        "outputId": "c368d82f-1286-43e2-8d5e-cf256550d8bd"
      },
      "execution_count": 1,
      "outputs": [
        {
          "output_type": "stream",
          "name": "stdout",
          "text": [
            "hello Kishen\n"
          ]
        }
      ]
    },
    {
      "cell_type": "markdown",
      "source": [
        "Exercise-2"
      ],
      "metadata": {
        "id": "Mkd09vt1UmcE"
      }
    },
    {
      "cell_type": "code",
      "source": [
        "hours= 60\n",
        "amtperhour= 9.5\n",
        "gross=hours * amtperhour\n",
        "print(gross)"
      ],
      "metadata": {
        "colab": {
          "base_uri": "https://localhost:8080/"
        },
        "id": "rb_erRgQUoLc",
        "outputId": "3609450d-9c35-42fc-acc2-af55af8b60fb"
      },
      "execution_count": 2,
      "outputs": [
        {
          "output_type": "stream",
          "name": "stdout",
          "text": [
            "570.0\n"
          ]
        }
      ]
    },
    {
      "cell_type": "markdown",
      "source": [
        "Exercise-3"
      ],
      "metadata": {
        "id": "DMTGaq5UUvf3"
      }
    },
    {
      "cell_type": "code",
      "source": [
        "width= 50\n",
        "height= 75\n",
        "print(width//2)"
      ],
      "metadata": {
        "colab": {
          "base_uri": "https://localhost:8080/"
        },
        "id": "xPbXr8i9UxWl",
        "outputId": "8b368b90-004e-49ee-adff-082f5036c717"
      },
      "execution_count": 3,
      "outputs": [
        {
          "output_type": "stream",
          "name": "stdout",
          "text": [
            "25\n"
          ]
        }
      ]
    },
    {
      "cell_type": "code",
      "source": [
        "print(width/2)"
      ],
      "metadata": {
        "colab": {
          "base_uri": "https://localhost:8080/"
        },
        "id": "LfGwGK6mU3d6",
        "outputId": "394e077e-d4c5-4c4d-8440-e5c6158b651b"
      },
      "execution_count": 4,
      "outputs": [
        {
          "output_type": "stream",
          "name": "stdout",
          "text": [
            "25.0\n"
          ]
        }
      ]
    },
    {
      "cell_type": "code",
      "source": [
        "print(height/3)"
      ],
      "metadata": {
        "colab": {
          "base_uri": "https://localhost:8080/"
        },
        "id": "CeWKefnrU6XK",
        "outputId": "c681bceb-df41-4bb5-d21f-2ffa0f5df15e"
      },
      "execution_count": 5,
      "outputs": [
        {
          "output_type": "stream",
          "name": "stdout",
          "text": [
            "25.0\n"
          ]
        }
      ]
    },
    {
      "cell_type": "code",
      "source": [
        "i= 25+35*40\n",
        "print(i)"
      ],
      "metadata": {
        "colab": {
          "base_uri": "https://localhost:8080/"
        },
        "id": "-8valqToU_N9",
        "outputId": "ec66aa71-9179-474b-b097-b69ae9d45f64"
      },
      "execution_count": 6,
      "outputs": [
        {
          "output_type": "stream",
          "name": "stdout",
          "text": [
            "1425\n"
          ]
        }
      ]
    },
    {
      "cell_type": "markdown",
      "source": [
        "Exercise-4"
      ],
      "metadata": {
        "id": "p0K8-XLZVEhS"
      }
    },
    {
      "cell_type": "code",
      "source": [
        "c=15\n",
        "f = ( 15* 9/5 ) + 32\n",
        "print(f)"
      ],
      "metadata": {
        "colab": {
          "base_uri": "https://localhost:8080/"
        },
        "id": "g_zPRTkgVF9A",
        "outputId": "1a76c59a-5334-41d4-877a-78d5acffc716"
      },
      "execution_count": 7,
      "outputs": [
        {
          "output_type": "stream",
          "name": "stdout",
          "text": [
            "59.0\n"
          ]
        }
      ]
    },
    {
      "cell_type": "code",
      "source": [
        "temperature=float(input(\"enter fahrenheit\"))\n",
        "if temperature>=98.2:\n",
        "  print(\"feeling feverish\")\n",
        "else:\n",
        "  print(\"normal temperature\") "
      ],
      "metadata": {
        "colab": {
          "base_uri": "https://localhost:8080/"
        },
        "id": "NwwFY-I7VLag",
        "outputId": "3e786cde-afdc-4b4a-84c7-390cbeddb386"
      },
      "execution_count": 8,
      "outputs": [
        {
          "output_type": "stream",
          "name": "stdout",
          "text": [
            "enter fahrenheit98.5\n",
            "feeling feverish\n"
          ]
        }
      ]
    },
    {
      "cell_type": "markdown",
      "source": [
        "Chapter-3 Exercises"
      ],
      "metadata": {
        "id": "20f7dwn9jKlZ"
      }
    },
    {
      "cell_type": "markdown",
      "source": [
        "Exercise-1"
      ],
      "metadata": {
        "id": "kXW4Q7n6jN2_"
      }
    },
    {
      "cell_type": "code",
      "source": [
        "k1 = float(input(\"Enter Hour\\n\"))\n",
        "k2 = float(input(\"Enter rate\\n\"))\n",
        "\n",
        "if(k1>40):\n",
        "  k3=(k1-40)*1.5*k2+(40*k2)\n",
        "else:\n",
        "  k3=k1*k2  \n",
        "  \n",
        "print(k3)\n"
      ],
      "metadata": {
        "colab": {
          "base_uri": "https://localhost:8080/"
        },
        "id": "Dw0FUTTSjPLC",
        "outputId": "8ee6fbd7-09f3-4ca2-f22c-dea02756b998"
      },
      "execution_count": 18,
      "outputs": [
        {
          "output_type": "stream",
          "name": "stdout",
          "text": [
            "Enter Hour\n",
            "30\n",
            "Enter rate\n",
            "10\n",
            "300.0\n"
          ]
        }
      ]
    },
    {
      "cell_type": "markdown",
      "source": [
        "Exercise-2"
      ],
      "metadata": {
        "id": "DKJJwCPPja-A"
      }
    },
    {
      "cell_type": "code",
      "source": [
        "try:\n",
        "   n1 = float(input(\"Enter Hour\\n\"))\n",
        "   n2 = float(input(\"Enter rate\\n\"))\n",
        "\n",
        "   if (n1>40):\n",
        "     n3=(n1-40)*1.5*n2+(40*n2)\n",
        "   else:\n",
        "     n3=n1*n2   \n",
        "     print(n3)\n",
        "except:\n",
        "  print(\"Please enter numeric input\")"
      ],
      "metadata": {
        "colab": {
          "base_uri": "https://localhost:8080/"
        },
        "id": "H1kGlYyUjcci",
        "outputId": "b1e5b35f-e113-498c-e352-130346e359b5"
      },
      "execution_count": 21,
      "outputs": [
        {
          "output_type": "stream",
          "name": "stdout",
          "text": [
            "Enter Hour\n",
            "40\n",
            "Enter rate\n",
            "10\n",
            "400.0\n"
          ]
        }
      ]
    },
    {
      "cell_type": "markdown",
      "source": [
        "Exercise-3"
      ],
      "metadata": {
        "id": "4WuydU4ujwcl"
      }
    },
    {
      "cell_type": "code",
      "source": [
        "a=float(input(\"Enter your score\\n\"))\n",
        "if(a<0.0 or a>1.0) :\n",
        "  print(\"Score is out of range!!\")\n",
        "elif(a>=0.9):\n",
        "  print(\"A\")\n",
        "elif(a>=0.8):\n",
        "  print(\"B\")\n",
        "elif(a>=0.7):\n",
        "  print(\"C\")\n",
        "elif(a>=0.6):\n",
        "  print(\"D\")      \n",
        "else:\n",
        "  print(\"F\")"
      ],
      "metadata": {
        "colab": {
          "base_uri": "https://localhost:8080/"
        },
        "id": "lr1YbjNVjx4s",
        "outputId": "2155a75f-ecca-4259-e510-fae70d22054d"
      },
      "execution_count": 22,
      "outputs": [
        {
          "output_type": "stream",
          "name": "stdout",
          "text": [
            "Enter your score\n",
            "0.75\n",
            "C\n"
          ]
        }
      ]
    },
    {
      "cell_type": "markdown",
      "source": [
        "Chapter-4 Exercises"
      ],
      "metadata": {
        "id": "fowkVv_eWi0l"
      }
    },
    {
      "cell_type": "markdown",
      "source": [
        "Exercise-5"
      ],
      "metadata": {
        "id": "5O7z4SZQXeZS"
      }
    },
    {
      "cell_type": "code",
      "source": [
        "def fred():\n",
        "  print(\"Zap\")\n",
        "def jane():\n",
        "  print(\"ABC\")\n",
        "jane()\n",
        "fred()\n",
        "jane()"
      ],
      "metadata": {
        "colab": {
          "base_uri": "https://localhost:8080/"
        },
        "id": "ELYvGOWqWlVt",
        "outputId": "b24d1dfe-4b4a-4b45-bcd6-af6df71e4228"
      },
      "execution_count": 9,
      "outputs": [
        {
          "output_type": "stream",
          "name": "stdout",
          "text": [
            "ABC\n",
            "Zap\n",
            "ABC\n"
          ]
        }
      ]
    },
    {
      "cell_type": "markdown",
      "source": [
        "Exercise-6"
      ],
      "metadata": {
        "id": "phWXWd7mXnk9"
      }
    },
    {
      "cell_type": "code",
      "source": [
        "def computepay(Hours,rate):\n",
        "  if(Hours>40):\n",
        "    pay=(Hours-40)*1.5*rate+(40*rate)\n",
        "  else:\n",
        "    pay=Hours*rate  \n",
        "  return pay\n",
        "\n",
        "Hours = float(input(\"Enter Hour\\n\"))\n",
        "rate = float(input(\"Enter rate\\n\"))\n",
        "pay = computepay(Hours , rate)  \n",
        "print( 'pay :',pay)"
      ],
      "metadata": {
        "colab": {
          "base_uri": "https://localhost:8080/"
        },
        "id": "p-fkvNXTXpzU",
        "outputId": "6fcc242f-9ca8-40f6-85de-9fc3b82bf424"
      },
      "execution_count": 10,
      "outputs": [
        {
          "output_type": "stream",
          "name": "stdout",
          "text": [
            "Enter Hour\n",
            "45\n",
            "Enter rate\n",
            "10\n",
            "pay : 475.0\n"
          ]
        }
      ]
    },
    {
      "cell_type": "markdown",
      "source": [
        "Exercise-7"
      ],
      "metadata": {
        "id": "Qu2PBYE9XxgD"
      }
    },
    {
      "cell_type": "code",
      "source": [
        "def computegrade(score):\n",
        "  if(score<0.0 or score>1.0) :\n",
        "    return(\"Score is out of range!!\")\n",
        "  elif(score>=0.9):\n",
        "    return(\"A\")\n",
        "  elif(score>=0.8):\n",
        "    return(\"B\")\n",
        "  elif(score>=0.7):\n",
        "    return(\"C\")\n",
        "  elif(score>=0.6):\n",
        "    return(\"D\")      \n",
        "  else:\n",
        "    return(\"F\")\n",
        "try:\n",
        "  score=float(input(\"Enter your score\\n\"))\n",
        "  print(computegrade(score))\n",
        "except Exception :\n",
        "  print('Enter a number!!!!!')"
      ],
      "metadata": {
        "colab": {
          "base_uri": "https://localhost:8080/"
        },
        "id": "gs8c8LGtXzxc",
        "outputId": "0092cda0-f2aa-4b6a-e9cc-3069665efaf2"
      },
      "execution_count": 11,
      "outputs": [
        {
          "output_type": "stream",
          "name": "stdout",
          "text": [
            "Enter your score\n",
            "0.85\n",
            "B\n"
          ]
        }
      ]
    },
    {
      "cell_type": "markdown",
      "source": [
        "Iteration Exercises"
      ],
      "metadata": {
        "id": "HYKyWRhibsXg"
      }
    },
    {
      "cell_type": "markdown",
      "source": [
        "Exercise-1"
      ],
      "metadata": {
        "id": "X33R_HgcbxgH"
      }
    },
    {
      "cell_type": "code",
      "source": [
        "count=0\n",
        "total=0\n",
        "while True :\n",
        "  value=input('Enter the number\\n')\n",
        "  if (value=='done'):\n",
        "    break\n",
        "  try:\n",
        "    value1=float(value)\n",
        "  except:\n",
        "    print('Invalid input')\n",
        "  total=total+value1\n",
        "  count=count+1\n",
        "print(total,count,total/count)"
      ],
      "metadata": {
        "colab": {
          "base_uri": "https://localhost:8080/"
        },
        "id": "sq-S_z-BbyxW",
        "outputId": "488a151a-8da3-4bd1-f366-43427269415a"
      },
      "execution_count": 14,
      "outputs": [
        {
          "output_type": "stream",
          "name": "stdout",
          "text": [
            "Enter the number\n",
            "5\n",
            "Enter the number\n",
            "4\n",
            "Enter the number\n",
            "3\n",
            "Enter the number\n",
            "done\n",
            "12.0 3 4.0\n"
          ]
        }
      ]
    },
    {
      "cell_type": "markdown",
      "source": [
        "Exercise-2"
      ],
      "metadata": {
        "id": "XRsN7sKMcCx-"
      }
    },
    {
      "cell_type": "code",
      "source": [
        "count=0\n",
        "list=[]\n",
        "while True :\n",
        "  element=input('Enter the number\\n')\n",
        "  if (element=='done'):\n",
        "    break\n",
        "  try:\n",
        "    value1=float(element)\n",
        "    list.append(value1)\n",
        "    \n",
        "  except:\n",
        "    print('Invalid input')\n",
        "\n",
        "  if count==0 :\n",
        "    min_val=value1\n",
        "    max_val=value1\n",
        "  elif value1<min_val:\n",
        "    min_val=value1\n",
        "  elif value1>max_val:\n",
        "    max_val=value1\n",
        "\n",
        "  count=count+1\n",
        "print('The list of elements are :',list)\n",
        "print(min_val , max_val)"
      ],
      "metadata": {
        "colab": {
          "base_uri": "https://localhost:8080/"
        },
        "id": "_xITreHycEZF",
        "outputId": "1661ca2f-ad47-4f65-b560-5d97ec2453d0"
      },
      "execution_count": 17,
      "outputs": [
        {
          "output_type": "stream",
          "name": "stdout",
          "text": [
            "Enter the number\n",
            "5\n",
            "Enter the number\n",
            "4\n",
            "Enter the number\n",
            "3\n",
            "Enter the number\n",
            "done\n",
            "The list of elements are : [5.0, 4.0, 3.0]\n",
            "3.0 5.0\n"
          ]
        }
      ]
    },
    {
      "cell_type": "markdown",
      "source": [
        "List exercises"
      ],
      "metadata": {
        "id": "3QRno1laKePM"
      }
    },
    {
      "cell_type": "code",
      "source": [
        "words =[]\n",
        "from google.colab import drive\n",
        "drive.mount('/content/drive', force_remount=1) \n",
        "fhand = open('romeo.txt.txt' , 'r')\n",
        "for line in  fhand :\n",
        " for word in line.split(' '):\n",
        "    if word not in words :\n",
        "        words.append(word)\n",
        "print(sorted(words))\n",
        "#not in order"
      ],
      "metadata": {
        "colab": {
          "base_uri": "https://localhost:8080/"
        },
        "id": "u0Kw8IZoKim3",
        "outputId": "be943ce3-11a6-4526-b801-d6453aed5d84"
      },
      "execution_count": 24,
      "outputs": [
        {
          "output_type": "stream",
          "name": "stdout",
          "text": [
            "Mounted at /content/drive\n",
            "['Arise', 'But', 'It', 'Juliet', 'Who', 'already', 'and', 'breaks\\n', 'east', 'envious', 'fair', 'grief', 'is', 'kill', 'light', 'moon\\n', 'pale', 'sick', 'soft', 'sun', 'sun\\n', 'the', 'through', 'what', 'window', 'with', 'yonder']\n"
          ]
        }
      ]
    },
    {
      "cell_type": "code",
      "source": [
        "from google.colab import drive\n",
        "drive.mount('/content/drive', force_remount=1)\n",
        "data = input(\"Enter the name of the file you want to be processed\")\n",
        "\n",
        "email_data = open(data).read()\n",
        "words = email_data.split()\n",
        "i = 0\n",
        "count=0\n",
        "length = len(words)\n",
        "\n",
        "while i < length:\n",
        "    if words[i] == \"From\":\n",
        "      #new_word=words[i]\n",
        "      count +=1\n",
        "    i=i+1\n",
        "print(\"There were\" , count ,\"  lines in the file which starts with the word  from\")"
      ],
      "metadata": {
        "colab": {
          "base_uri": "https://localhost:8080/"
        },
        "id": "54Xn5u-RKvrj",
        "outputId": "fce47f8e-a8a7-484b-db0b-2a0390ff4a42"
      },
      "execution_count": 27,
      "outputs": [
        {
          "output_type": "stream",
          "name": "stdout",
          "text": [
            "Mounted at /content/drive\n",
            "Enter the name of the file you want to be processedmbox.txt\n",
            "There were 3594   lines in the file which starts with the word  from\n"
          ]
        }
      ]
    },
    {
      "cell_type": "code",
      "source": [
        "my_nums = []\n",
        "\n",
        "while True:\n",
        "  a = input(\"Enter a number:\")\n",
        "  if a == 'done' :\n",
        "    break\n",
        "  try:\n",
        "    val = float(a)\n",
        "  except:\n",
        "    print(\"invalid input\")\n",
        "    continue\n",
        "  my_nums.append(val)\n",
        " \n",
        "\n",
        "print(min(my_nums) )\n",
        "print(max(my_nums))\n"
      ],
      "metadata": {
        "colab": {
          "base_uri": "https://localhost:8080/"
        },
        "id": "JAib0-pCK4GX",
        "outputId": "fad56d50-128d-4ea9-920c-1ced9a89cf3d"
      },
      "execution_count": 28,
      "outputs": [
        {
          "output_type": "stream",
          "name": "stdout",
          "text": [
            "Enter a number:5\n",
            "Enter a number:7\n",
            "Enter a number:50\n",
            "Enter a number:1\n",
            "Enter a number:done\n",
            "1.0\n",
            "50.0\n"
          ]
        }
      ]
    },
    {
      "cell_type": "markdown",
      "source": [
        "Dictionaries exercise"
      ],
      "metadata": {
        "id": "TGR-u49sMjRm"
      }
    },
    {
      "cell_type": "code",
      "source": [
        "from google.colab import drive\n",
        "drive.mount('/content/drive', force_remount=1)\n",
        "data = input(\"Enter the name of the file you want to be processed\")\n",
        "email_data = open(data).read()\n",
        "days = dict()\n",
        "words = email_data.split()\n",
        "\n",
        "i = 0\n",
        "length = len(words)\n",
        "\n",
        "while i < length:\n",
        "    if words[i] == \"From\":\n",
        "        days[words[i+2]] = days.get(words[i+2],0) + 1\n",
        "    i = i + 1"
      ],
      "metadata": {
        "colab": {
          "base_uri": "https://localhost:8080/"
        },
        "id": "7HfvjCUjMog_",
        "outputId": "78f1e027-2117-4bda-8910-2c2d70db1e30"
      },
      "execution_count": 29,
      "outputs": [
        {
          "name": "stdout",
          "output_type": "stream",
          "text": [
            "Mounted at /content/drive\n",
            "Enter the name of the file you want to be processedmbox-short.txt\n"
          ]
        }
      ]
    },
    {
      "cell_type": "code",
      "source": [
        "from google.colab import drive\n",
        "drive.mount('/content/drive', force_remount=1)\n",
        "data = input(\"Enter the name of the file you want to be processed\")\n",
        "email_data = open(data).read()\n",
        "sender = dict()\n",
        "#days = dict()\n",
        "words = email_data.split()\n",
        "\n",
        "i = 0\n",
        "length = len(words)\n",
        "\n",
        "while i < length:\n",
        "    if words[i] == \"From\":\n",
        "        #days[words[i+2]] = days.get(words[i+2],0) + 1\n",
        "        sender[words[i+1]] = sender.get(words[i+1],0) + 1\n",
        "    i = i + 1\n",
        "\n",
        "#print(days)\n",
        "print(sender)"
      ],
      "metadata": {
        "colab": {
          "base_uri": "https://localhost:8080/"
        },
        "id": "Kcn4zXccMpZV",
        "outputId": "a87da245-8d1b-4c95-e74e-035f32d1e97e"
      },
      "execution_count": 30,
      "outputs": [
        {
          "output_type": "stream",
          "name": "stdout",
          "text": [
            "Mounted at /content/drive\n",
            "Enter the name of the file you want to be processedromeo.txt.txt\n",
            "{}\n"
          ]
        }
      ]
    },
    {
      "cell_type": "code",
      "source": [
        "from google.colab import drive\n",
        "drive.mount('/content/drive', force_remount=1)\n",
        "data = input(\"Enter the name of the file you want to be processed\")\n",
        "email_data = open(data).read()\n",
        "domains = dict()\n",
        "\n",
        "words = email_data.split()\n",
        "\n",
        "i = 0\n",
        "length = len(words)\n",
        "\n",
        "while i < length:\n",
        "    if words[i] == \"From\":\n",
        "        emails=words[i+1]\n",
        "        domain=emails.split('@')\n",
        "        domains[domain[1]]=domains.get(domain[1],0)+1\n",
        "    i = i + 1\n",
        "\n",
        "\n",
        "print(domains)"
      ],
      "metadata": {
        "colab": {
          "base_uri": "https://localhost:8080/"
        },
        "id": "mnJS4aVZMuAf",
        "outputId": "37c4e202-592f-4a06-d62c-519d64798062"
      },
      "execution_count": 32,
      "outputs": [
        {
          "output_type": "stream",
          "name": "stdout",
          "text": [
            "Mounted at /content/drive\n",
            "Enter the name of the file you want to be processedmbox-short.txt\n",
            "{'uct.ac.za': 6, 'media.berkeley.edu': 4, 'umich.edu': 7, 'iupui.edu': 8, 'caret.cam.ac.uk': 1, 'gmail.com': 1}\n"
          ]
        }
      ]
    },
    {
      "cell_type": "code",
      "source": [
        "from google.colab import drive\n",
        "drive.mount('/content/drive', force_remount=1)\n",
        "data = input(\"Enter the name of the file you want to be processed\")\n",
        "email_data = open(data).read()\n",
        "sender = dict()\n",
        "#days = dict()\n",
        "words = email_data.split()\n",
        "\n",
        "i = 0\n",
        "length = len(words)\n",
        "\n",
        "while i < length:\n",
        "    if words[i] == \"From\":\n",
        "        #days[words[i+2]] = days.get(words[i+2],0) + 1\n",
        "        sender[words[i+1]] = sender.get(words[i+1],0) + 1\n",
        "    i=i+1\n",
        "#print(sender)    \n",
        "max_address = None\n",
        "max_emails = 0\n",
        "for k in sender:\n",
        "    if sender[k] > max_emails:\n",
        "      max_address = k\n",
        "      max_emails = sender[k]\n",
        "\n",
        "#print(days)\n",
        "print(max_address,max_emails)"
      ],
      "metadata": {
        "colab": {
          "base_uri": "https://localhost:8080/"
        },
        "id": "bEnSl0n5MyYy",
        "outputId": "9b10adfc-f8d4-4f21-e43c-1b3b496fb40e"
      },
      "execution_count": 33,
      "outputs": [
        {
          "output_type": "stream",
          "name": "stdout",
          "text": [
            "Mounted at /content/drive\n",
            "Enter the name of the file you want to be processedmbox-short.txt\n",
            "cwen@iupui.edu 5\n"
          ]
        }
      ]
    },
    {
      "cell_type": "markdown",
      "source": [
        "Tuples Exercises"
      ],
      "metadata": {
        "id": "PrY01kejM8fk"
      }
    },
    {
      "cell_type": "code",
      "source": [
        "data = input(\"Enter the name of the file you want to be processed\")\n",
        "email_data = open(data).read()\n",
        "sender = dict()\n",
        "#days = dict()\n",
        "words = email_data.split()\n",
        "\n",
        "i = 0\n",
        "length = len(words)\n",
        "\n",
        "while i < length:\n",
        "    if words[i] == \"From\":\n",
        "        #days[words[i+2]] = days.get(words[i+2],0) + 1\n",
        "        sender[words[i+1]] = sender.get(words[i+1],0) + 1\n",
        "    i = i + 1\n",
        "\n",
        "#print(days)\n",
        "#print(sender)\n",
        "\n",
        "lst=[]\n",
        "\n",
        "for key,value in sender.items():#creates a list of dictnary;s (key,value) pair in tuple pairs\n",
        "  lst.append((value,key))\n",
        "  lst.sort(reverse=True)\n",
        "print(lst[0])  "
      ],
      "metadata": {
        "colab": {
          "base_uri": "https://localhost:8080/"
        },
        "id": "AAJN0LAlM-fZ",
        "outputId": "98127a7d-959d-48e9-b2aa-67bcdf3bad9c"
      },
      "execution_count": 35,
      "outputs": [
        {
          "output_type": "stream",
          "name": "stdout",
          "text": [
            "Enter the name of the file you want to be processedmbox-short.txt\n",
            "(5, 'cwen@iupui.edu')\n"
          ]
        }
      ]
    },
    {
      "cell_type": "code",
      "source": [
        "data = input(\"Enter the name of the file you want to be processed\")\n",
        "email_data = open(data).read()\n",
        "hours_of_day = dict()\n",
        "#days = dict()\n",
        "words = email_data.split()\n",
        "i = 0\n",
        "length = len(words)\n",
        "\n",
        "while i < length:\n",
        "    if words[i] == \"From\":\n",
        "        #days[words[i+2]] = days.get(words[i+2],0) + 1\n",
        "        #sender[words[i+1]] = sender.get(words[i+1],0) + 1\n",
        "        time=words[i+5]\n",
        "        time = time.split(\":\")\n",
        "        hours_of_day[time[0]] = hours_of_day.get(time[0],0) + 1\n",
        "    i = i + 1\n",
        "#print(hours_of_day)\n",
        "lst=[]\n",
        "\n",
        "for key,value in hours_of_day.items():#creates a list of dictnary;s (key,value) pair in tuple pairs\n",
        "  lst.append((key,value))\n",
        "  \n",
        "lst.sort()\n",
        "#print(lst)\n",
        "for t in lst :\n",
        "  print(t[0],t[1])"
      ],
      "metadata": {
        "colab": {
          "base_uri": "https://localhost:8080/"
        },
        "id": "I8yVB4j7NCQ_",
        "outputId": "26006454-e68a-4fa6-b034-7a0671176502"
      },
      "execution_count": 36,
      "outputs": [
        {
          "name": "stdout",
          "output_type": "stream",
          "text": [
            "Enter the name of the file you want to be processedromeo.txt.txt\n"
          ]
        }
      ]
    }
  ]
}